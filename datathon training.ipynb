{
 "cells": [
  {
   "cell_type": "markdown",
   "id": "410fd213-b5dd-4881-882a-6d0f2db115c2",
   "metadata": {},
   "source": [
    "# OBJECTIVE 1: MODEL TRAINING FOR PREDICTING DAILY SALES QUANTITY"
   ]
  },
  {
   "cell_type": "markdown",
   "id": "8a1dd0d6-4b9a-42ac-8c42-e3594f213707",
   "metadata": {},
   "source": [
    "# Importing the neccessary libraries"
   ]
  },
  {
   "cell_type": "code",
   "execution_count": 1,
   "id": "6a06568e-e94d-46d2-a24c-6e2be066d4a1",
   "metadata": {},
   "outputs": [],
   "source": [
    "import pandas as pd\n",
    "import xgboost as xgb\n",
    "from sklearn.model_selection import train_test_split\n",
    "from sklearn.preprocessing import LabelEncoder\n",
    "from sklearn.metrics import mean_absolute_error, mean_squared_error, r2_score\n",
    "import numpy as np\n",
    "import matplotlib.pyplot as plt"
   ]
  },
  {
   "cell_type": "markdown",
   "id": "6ed37244-33f5-4496-a972-4fd0b5b01968",
   "metadata": {},
   "source": [
    "# Importing dataset for training"
   ]
  },
  {
   "cell_type": "code",
   "execution_count": 2,
   "id": "03dc43b7-9f95-4b2d-ae34-fcd0cd003706",
   "metadata": {},
   "outputs": [],
   "source": [
    "df = pd.read_csv(\"Cleaned_ready for ml.csv\")"
   ]
  },
  {
   "cell_type": "markdown",
   "id": "915d8540-fa15-4d3e-8a8f-1bbd01d382b2",
   "metadata": {},
   "source": [
    "# Label Encoding for categorical variables"
   ]
  },
  {
   "cell_type": "code",
   "execution_count": 3,
   "id": "f31f6cd4-153d-4fef-b7a9-76d62a8923b6",
   "metadata": {},
   "outputs": [],
   "source": [
    "for col in df.columns:\n",
    "    if df[col].dtype == 'object':\n",
    "        le = LabelEncoder()\n",
    "        df[col] = le.fit_transform(df[col].astype(str))"
   ]
  },
  {
   "cell_type": "markdown",
   "id": "fe9220b6-a875-4814-ad80-b28f9acb8309",
   "metadata": {},
   "source": [
    "# Declaring and dropping variables"
   ]
  },
  {
   "cell_type": "code",
   "execution_count": 4,
   "id": "54138aca-b4bd-4d8d-84c1-9f6c2808876e",
   "metadata": {},
   "outputs": [],
   "source": [
    "df = df.drop(columns=['Customer_Id'])"
   ]
  },
  {
   "cell_type": "code",
   "execution_count": 5,
   "id": "5975ec0b-315a-4109-8ee4-6bfff6168734",
   "metadata": {},
   "outputs": [],
   "source": [
    "X = df.drop(columns=['Daily_Sales_Quantity'])\n",
    "y = df['Daily_Sales_Quantity']"
   ]
  },
  {
   "cell_type": "markdown",
   "id": "e47e684b-af3d-4c68-8bdd-3db2f5682d89",
   "metadata": {},
   "source": [
    "# Train test split and model training"
   ]
  },
  {
   "cell_type": "code",
   "execution_count": 6,
   "id": "e0407dc7-a20c-45b8-b15a-abe11773583f",
   "metadata": {},
   "outputs": [],
   "source": [
    "X_train, X_test, y_train, y_test = train_test_split(\n",
    "    X, y, test_size=0.2, random_state=42\n",
    ")"
   ]
  },
  {
   "cell_type": "code",
   "execution_count": 7,
   "id": "1165c9f9-c763-4a99-bbdd-cb8bab9ad7ea",
   "metadata": {},
   "outputs": [
    {
     "data": {
      "text/html": [
       "<style>#sk-container-id-1 {\n",
       "  /* Definition of color scheme common for light and dark mode */\n",
       "  --sklearn-color-text: black;\n",
       "  --sklearn-color-line: gray;\n",
       "  /* Definition of color scheme for unfitted estimators */\n",
       "  --sklearn-color-unfitted-level-0: #fff5e6;\n",
       "  --sklearn-color-unfitted-level-1: #f6e4d2;\n",
       "  --sklearn-color-unfitted-level-2: #ffe0b3;\n",
       "  --sklearn-color-unfitted-level-3: chocolate;\n",
       "  /* Definition of color scheme for fitted estimators */\n",
       "  --sklearn-color-fitted-level-0: #f0f8ff;\n",
       "  --sklearn-color-fitted-level-1: #d4ebff;\n",
       "  --sklearn-color-fitted-level-2: #b3dbfd;\n",
       "  --sklearn-color-fitted-level-3: cornflowerblue;\n",
       "\n",
       "  /* Specific color for light theme */\n",
       "  --sklearn-color-text-on-default-background: var(--sg-text-color, var(--theme-code-foreground, var(--jp-content-font-color1, black)));\n",
       "  --sklearn-color-background: var(--sg-background-color, var(--theme-background, var(--jp-layout-color0, white)));\n",
       "  --sklearn-color-border-box: var(--sg-text-color, var(--theme-code-foreground, var(--jp-content-font-color1, black)));\n",
       "  --sklearn-color-icon: #696969;\n",
       "\n",
       "  @media (prefers-color-scheme: dark) {\n",
       "    /* Redefinition of color scheme for dark theme */\n",
       "    --sklearn-color-text-on-default-background: var(--sg-text-color, var(--theme-code-foreground, var(--jp-content-font-color1, white)));\n",
       "    --sklearn-color-background: var(--sg-background-color, var(--theme-background, var(--jp-layout-color0, #111)));\n",
       "    --sklearn-color-border-box: var(--sg-text-color, var(--theme-code-foreground, var(--jp-content-font-color1, white)));\n",
       "    --sklearn-color-icon: #878787;\n",
       "  }\n",
       "}\n",
       "\n",
       "#sk-container-id-1 {\n",
       "  color: var(--sklearn-color-text);\n",
       "}\n",
       "\n",
       "#sk-container-id-1 pre {\n",
       "  padding: 0;\n",
       "}\n",
       "\n",
       "#sk-container-id-1 input.sk-hidden--visually {\n",
       "  border: 0;\n",
       "  clip: rect(1px 1px 1px 1px);\n",
       "  clip: rect(1px, 1px, 1px, 1px);\n",
       "  height: 1px;\n",
       "  margin: -1px;\n",
       "  overflow: hidden;\n",
       "  padding: 0;\n",
       "  position: absolute;\n",
       "  width: 1px;\n",
       "}\n",
       "\n",
       "#sk-container-id-1 div.sk-dashed-wrapped {\n",
       "  border: 1px dashed var(--sklearn-color-line);\n",
       "  margin: 0 0.4em 0.5em 0.4em;\n",
       "  box-sizing: border-box;\n",
       "  padding-bottom: 0.4em;\n",
       "  background-color: var(--sklearn-color-background);\n",
       "}\n",
       "\n",
       "#sk-container-id-1 div.sk-container {\n",
       "  /* jupyter's `normalize.less` sets `[hidden] { display: none; }`\n",
       "     but bootstrap.min.css set `[hidden] { display: none !important; }`\n",
       "     so we also need the `!important` here to be able to override the\n",
       "     default hidden behavior on the sphinx rendered scikit-learn.org.\n",
       "     See: https://github.com/scikit-learn/scikit-learn/issues/21755 */\n",
       "  display: inline-block !important;\n",
       "  position: relative;\n",
       "}\n",
       "\n",
       "#sk-container-id-1 div.sk-text-repr-fallback {\n",
       "  display: none;\n",
       "}\n",
       "\n",
       "div.sk-parallel-item,\n",
       "div.sk-serial,\n",
       "div.sk-item {\n",
       "  /* draw centered vertical line to link estimators */\n",
       "  background-image: linear-gradient(var(--sklearn-color-text-on-default-background), var(--sklearn-color-text-on-default-background));\n",
       "  background-size: 2px 100%;\n",
       "  background-repeat: no-repeat;\n",
       "  background-position: center center;\n",
       "}\n",
       "\n",
       "/* Parallel-specific style estimator block */\n",
       "\n",
       "#sk-container-id-1 div.sk-parallel-item::after {\n",
       "  content: \"\";\n",
       "  width: 100%;\n",
       "  border-bottom: 2px solid var(--sklearn-color-text-on-default-background);\n",
       "  flex-grow: 1;\n",
       "}\n",
       "\n",
       "#sk-container-id-1 div.sk-parallel {\n",
       "  display: flex;\n",
       "  align-items: stretch;\n",
       "  justify-content: center;\n",
       "  background-color: var(--sklearn-color-background);\n",
       "  position: relative;\n",
       "}\n",
       "\n",
       "#sk-container-id-1 div.sk-parallel-item {\n",
       "  display: flex;\n",
       "  flex-direction: column;\n",
       "}\n",
       "\n",
       "#sk-container-id-1 div.sk-parallel-item:first-child::after {\n",
       "  align-self: flex-end;\n",
       "  width: 50%;\n",
       "}\n",
       "\n",
       "#sk-container-id-1 div.sk-parallel-item:last-child::after {\n",
       "  align-self: flex-start;\n",
       "  width: 50%;\n",
       "}\n",
       "\n",
       "#sk-container-id-1 div.sk-parallel-item:only-child::after {\n",
       "  width: 0;\n",
       "}\n",
       "\n",
       "/* Serial-specific style estimator block */\n",
       "\n",
       "#sk-container-id-1 div.sk-serial {\n",
       "  display: flex;\n",
       "  flex-direction: column;\n",
       "  align-items: center;\n",
       "  background-color: var(--sklearn-color-background);\n",
       "  padding-right: 1em;\n",
       "  padding-left: 1em;\n",
       "}\n",
       "\n",
       "\n",
       "/* Toggleable style: style used for estimator/Pipeline/ColumnTransformer box that is\n",
       "clickable and can be expanded/collapsed.\n",
       "- Pipeline and ColumnTransformer use this feature and define the default style\n",
       "- Estimators will overwrite some part of the style using the `sk-estimator` class\n",
       "*/\n",
       "\n",
       "/* Pipeline and ColumnTransformer style (default) */\n",
       "\n",
       "#sk-container-id-1 div.sk-toggleable {\n",
       "  /* Default theme specific background. It is overwritten whether we have a\n",
       "  specific estimator or a Pipeline/ColumnTransformer */\n",
       "  background-color: var(--sklearn-color-background);\n",
       "}\n",
       "\n",
       "/* Toggleable label */\n",
       "#sk-container-id-1 label.sk-toggleable__label {\n",
       "  cursor: pointer;\n",
       "  display: block;\n",
       "  width: 100%;\n",
       "  margin-bottom: 0;\n",
       "  padding: 0.5em;\n",
       "  box-sizing: border-box;\n",
       "  text-align: center;\n",
       "}\n",
       "\n",
       "#sk-container-id-1 label.sk-toggleable__label-arrow:before {\n",
       "  /* Arrow on the left of the label */\n",
       "  content: \"▸\";\n",
       "  float: left;\n",
       "  margin-right: 0.25em;\n",
       "  color: var(--sklearn-color-icon);\n",
       "}\n",
       "\n",
       "#sk-container-id-1 label.sk-toggleable__label-arrow:hover:before {\n",
       "  color: var(--sklearn-color-text);\n",
       "}\n",
       "\n",
       "/* Toggleable content - dropdown */\n",
       "\n",
       "#sk-container-id-1 div.sk-toggleable__content {\n",
       "  max-height: 0;\n",
       "  max-width: 0;\n",
       "  overflow: hidden;\n",
       "  text-align: left;\n",
       "  /* unfitted */\n",
       "  background-color: var(--sklearn-color-unfitted-level-0);\n",
       "}\n",
       "\n",
       "#sk-container-id-1 div.sk-toggleable__content.fitted {\n",
       "  /* fitted */\n",
       "  background-color: var(--sklearn-color-fitted-level-0);\n",
       "}\n",
       "\n",
       "#sk-container-id-1 div.sk-toggleable__content pre {\n",
       "  margin: 0.2em;\n",
       "  border-radius: 0.25em;\n",
       "  color: var(--sklearn-color-text);\n",
       "  /* unfitted */\n",
       "  background-color: var(--sklearn-color-unfitted-level-0);\n",
       "}\n",
       "\n",
       "#sk-container-id-1 div.sk-toggleable__content.fitted pre {\n",
       "  /* unfitted */\n",
       "  background-color: var(--sklearn-color-fitted-level-0);\n",
       "}\n",
       "\n",
       "#sk-container-id-1 input.sk-toggleable__control:checked~div.sk-toggleable__content {\n",
       "  /* Expand drop-down */\n",
       "  max-height: 200px;\n",
       "  max-width: 100%;\n",
       "  overflow: auto;\n",
       "}\n",
       "\n",
       "#sk-container-id-1 input.sk-toggleable__control:checked~label.sk-toggleable__label-arrow:before {\n",
       "  content: \"▾\";\n",
       "}\n",
       "\n",
       "/* Pipeline/ColumnTransformer-specific style */\n",
       "\n",
       "#sk-container-id-1 div.sk-label input.sk-toggleable__control:checked~label.sk-toggleable__label {\n",
       "  color: var(--sklearn-color-text);\n",
       "  background-color: var(--sklearn-color-unfitted-level-2);\n",
       "}\n",
       "\n",
       "#sk-container-id-1 div.sk-label.fitted input.sk-toggleable__control:checked~label.sk-toggleable__label {\n",
       "  background-color: var(--sklearn-color-fitted-level-2);\n",
       "}\n",
       "\n",
       "/* Estimator-specific style */\n",
       "\n",
       "/* Colorize estimator box */\n",
       "#sk-container-id-1 div.sk-estimator input.sk-toggleable__control:checked~label.sk-toggleable__label {\n",
       "  /* unfitted */\n",
       "  background-color: var(--sklearn-color-unfitted-level-2);\n",
       "}\n",
       "\n",
       "#sk-container-id-1 div.sk-estimator.fitted input.sk-toggleable__control:checked~label.sk-toggleable__label {\n",
       "  /* fitted */\n",
       "  background-color: var(--sklearn-color-fitted-level-2);\n",
       "}\n",
       "\n",
       "#sk-container-id-1 div.sk-label label.sk-toggleable__label,\n",
       "#sk-container-id-1 div.sk-label label {\n",
       "  /* The background is the default theme color */\n",
       "  color: var(--sklearn-color-text-on-default-background);\n",
       "}\n",
       "\n",
       "/* On hover, darken the color of the background */\n",
       "#sk-container-id-1 div.sk-label:hover label.sk-toggleable__label {\n",
       "  color: var(--sklearn-color-text);\n",
       "  background-color: var(--sklearn-color-unfitted-level-2);\n",
       "}\n",
       "\n",
       "/* Label box, darken color on hover, fitted */\n",
       "#sk-container-id-1 div.sk-label.fitted:hover label.sk-toggleable__label.fitted {\n",
       "  color: var(--sklearn-color-text);\n",
       "  background-color: var(--sklearn-color-fitted-level-2);\n",
       "}\n",
       "\n",
       "/* Estimator label */\n",
       "\n",
       "#sk-container-id-1 div.sk-label label {\n",
       "  font-family: monospace;\n",
       "  font-weight: bold;\n",
       "  display: inline-block;\n",
       "  line-height: 1.2em;\n",
       "}\n",
       "\n",
       "#sk-container-id-1 div.sk-label-container {\n",
       "  text-align: center;\n",
       "}\n",
       "\n",
       "/* Estimator-specific */\n",
       "#sk-container-id-1 div.sk-estimator {\n",
       "  font-family: monospace;\n",
       "  border: 1px dotted var(--sklearn-color-border-box);\n",
       "  border-radius: 0.25em;\n",
       "  box-sizing: border-box;\n",
       "  margin-bottom: 0.5em;\n",
       "  /* unfitted */\n",
       "  background-color: var(--sklearn-color-unfitted-level-0);\n",
       "}\n",
       "\n",
       "#sk-container-id-1 div.sk-estimator.fitted {\n",
       "  /* fitted */\n",
       "  background-color: var(--sklearn-color-fitted-level-0);\n",
       "}\n",
       "\n",
       "/* on hover */\n",
       "#sk-container-id-1 div.sk-estimator:hover {\n",
       "  /* unfitted */\n",
       "  background-color: var(--sklearn-color-unfitted-level-2);\n",
       "}\n",
       "\n",
       "#sk-container-id-1 div.sk-estimator.fitted:hover {\n",
       "  /* fitted */\n",
       "  background-color: var(--sklearn-color-fitted-level-2);\n",
       "}\n",
       "\n",
       "/* Specification for estimator info (e.g. \"i\" and \"?\") */\n",
       "\n",
       "/* Common style for \"i\" and \"?\" */\n",
       "\n",
       ".sk-estimator-doc-link,\n",
       "a:link.sk-estimator-doc-link,\n",
       "a:visited.sk-estimator-doc-link {\n",
       "  float: right;\n",
       "  font-size: smaller;\n",
       "  line-height: 1em;\n",
       "  font-family: monospace;\n",
       "  background-color: var(--sklearn-color-background);\n",
       "  border-radius: 1em;\n",
       "  height: 1em;\n",
       "  width: 1em;\n",
       "  text-decoration: none !important;\n",
       "  margin-left: 1ex;\n",
       "  /* unfitted */\n",
       "  border: var(--sklearn-color-unfitted-level-1) 1pt solid;\n",
       "  color: var(--sklearn-color-unfitted-level-1);\n",
       "}\n",
       "\n",
       ".sk-estimator-doc-link.fitted,\n",
       "a:link.sk-estimator-doc-link.fitted,\n",
       "a:visited.sk-estimator-doc-link.fitted {\n",
       "  /* fitted */\n",
       "  border: var(--sklearn-color-fitted-level-1) 1pt solid;\n",
       "  color: var(--sklearn-color-fitted-level-1);\n",
       "}\n",
       "\n",
       "/* On hover */\n",
       "div.sk-estimator:hover .sk-estimator-doc-link:hover,\n",
       ".sk-estimator-doc-link:hover,\n",
       "div.sk-label-container:hover .sk-estimator-doc-link:hover,\n",
       ".sk-estimator-doc-link:hover {\n",
       "  /* unfitted */\n",
       "  background-color: var(--sklearn-color-unfitted-level-3);\n",
       "  color: var(--sklearn-color-background);\n",
       "  text-decoration: none;\n",
       "}\n",
       "\n",
       "div.sk-estimator.fitted:hover .sk-estimator-doc-link.fitted:hover,\n",
       ".sk-estimator-doc-link.fitted:hover,\n",
       "div.sk-label-container:hover .sk-estimator-doc-link.fitted:hover,\n",
       ".sk-estimator-doc-link.fitted:hover {\n",
       "  /* fitted */\n",
       "  background-color: var(--sklearn-color-fitted-level-3);\n",
       "  color: var(--sklearn-color-background);\n",
       "  text-decoration: none;\n",
       "}\n",
       "\n",
       "/* Span, style for the box shown on hovering the info icon */\n",
       ".sk-estimator-doc-link span {\n",
       "  display: none;\n",
       "  z-index: 9999;\n",
       "  position: relative;\n",
       "  font-weight: normal;\n",
       "  right: .2ex;\n",
       "  padding: .5ex;\n",
       "  margin: .5ex;\n",
       "  width: min-content;\n",
       "  min-width: 20ex;\n",
       "  max-width: 50ex;\n",
       "  color: var(--sklearn-color-text);\n",
       "  box-shadow: 2pt 2pt 4pt #999;\n",
       "  /* unfitted */\n",
       "  background: var(--sklearn-color-unfitted-level-0);\n",
       "  border: .5pt solid var(--sklearn-color-unfitted-level-3);\n",
       "}\n",
       "\n",
       ".sk-estimator-doc-link.fitted span {\n",
       "  /* fitted */\n",
       "  background: var(--sklearn-color-fitted-level-0);\n",
       "  border: var(--sklearn-color-fitted-level-3);\n",
       "}\n",
       "\n",
       ".sk-estimator-doc-link:hover span {\n",
       "  display: block;\n",
       "}\n",
       "\n",
       "/* \"?\"-specific style due to the `<a>` HTML tag */\n",
       "\n",
       "#sk-container-id-1 a.estimator_doc_link {\n",
       "  float: right;\n",
       "  font-size: 1rem;\n",
       "  line-height: 1em;\n",
       "  font-family: monospace;\n",
       "  background-color: var(--sklearn-color-background);\n",
       "  border-radius: 1rem;\n",
       "  height: 1rem;\n",
       "  width: 1rem;\n",
       "  text-decoration: none;\n",
       "  /* unfitted */\n",
       "  color: var(--sklearn-color-unfitted-level-1);\n",
       "  border: var(--sklearn-color-unfitted-level-1) 1pt solid;\n",
       "}\n",
       "\n",
       "#sk-container-id-1 a.estimator_doc_link.fitted {\n",
       "  /* fitted */\n",
       "  border: var(--sklearn-color-fitted-level-1) 1pt solid;\n",
       "  color: var(--sklearn-color-fitted-level-1);\n",
       "}\n",
       "\n",
       "/* On hover */\n",
       "#sk-container-id-1 a.estimator_doc_link:hover {\n",
       "  /* unfitted */\n",
       "  background-color: var(--sklearn-color-unfitted-level-3);\n",
       "  color: var(--sklearn-color-background);\n",
       "  text-decoration: none;\n",
       "}\n",
       "\n",
       "#sk-container-id-1 a.estimator_doc_link.fitted:hover {\n",
       "  /* fitted */\n",
       "  background-color: var(--sklearn-color-fitted-level-3);\n",
       "}\n",
       "</style><div id=\"sk-container-id-1\" class=\"sk-top-container\"><div class=\"sk-text-repr-fallback\"><pre>XGBRegressor(base_score=None, booster=None, callbacks=None,\n",
       "             colsample_bylevel=None, colsample_bynode=None,\n",
       "             colsample_bytree=None, device=None, early_stopping_rounds=None,\n",
       "             enable_categorical=False, eval_metric=None, feature_types=None,\n",
       "             feature_weights=None, gamma=None, grow_policy=None,\n",
       "             importance_type=None, interaction_constraints=None,\n",
       "             learning_rate=0.1, max_bin=None, max_cat_threshold=None,\n",
       "             max_cat_to_onehot=None, max_delta_step=None, max_depth=6,\n",
       "             max_leaves=None, min_child_weight=None, missing=nan,\n",
       "             monotone_constraints=None, multi_strategy=None, n_estimators=100,\n",
       "             n_jobs=None, num_parallel_tree=None, ...)</pre><b>In a Jupyter environment, please rerun this cell to show the HTML representation or trust the notebook. <br />On GitHub, the HTML representation is unable to render, please try loading this page with nbviewer.org.</b></div><div class=\"sk-container\" hidden><div class=\"sk-item\"><div class=\"sk-estimator fitted sk-toggleable\"><input class=\"sk-toggleable__control sk-hidden--visually\" id=\"sk-estimator-id-1\" type=\"checkbox\" checked><label for=\"sk-estimator-id-1\" class=\"sk-toggleable__label fitted sk-toggleable__label-arrow fitted\">&nbsp;&nbsp;XGBRegressor<a class=\"sk-estimator-doc-link fitted\" rel=\"noreferrer\" target=\"_blank\" href=\"https://xgboost.readthedocs.io/en/release_3.0.0/python/python_api.html#xgboost.XGBRegressor\">?<span>Documentation for XGBRegressor</span></a><span class=\"sk-estimator-doc-link fitted\">i<span>Fitted</span></span></label><div class=\"sk-toggleable__content fitted\"><pre>XGBRegressor(base_score=None, booster=None, callbacks=None,\n",
       "             colsample_bylevel=None, colsample_bynode=None,\n",
       "             colsample_bytree=None, device=None, early_stopping_rounds=None,\n",
       "             enable_categorical=False, eval_metric=None, feature_types=None,\n",
       "             feature_weights=None, gamma=None, grow_policy=None,\n",
       "             importance_type=None, interaction_constraints=None,\n",
       "             learning_rate=0.1, max_bin=None, max_cat_threshold=None,\n",
       "             max_cat_to_onehot=None, max_delta_step=None, max_depth=6,\n",
       "             max_leaves=None, min_child_weight=None, missing=nan,\n",
       "             monotone_constraints=None, multi_strategy=None, n_estimators=100,\n",
       "             n_jobs=None, num_parallel_tree=None, ...)</pre></div> </div></div></div></div>"
      ],
      "text/plain": [
       "XGBRegressor(base_score=None, booster=None, callbacks=None,\n",
       "             colsample_bylevel=None, colsample_bynode=None,\n",
       "             colsample_bytree=None, device=None, early_stopping_rounds=None,\n",
       "             enable_categorical=False, eval_metric=None, feature_types=None,\n",
       "             feature_weights=None, gamma=None, grow_policy=None,\n",
       "             importance_type=None, interaction_constraints=None,\n",
       "             learning_rate=0.1, max_bin=None, max_cat_threshold=None,\n",
       "             max_cat_to_onehot=None, max_delta_step=None, max_depth=6,\n",
       "             max_leaves=None, min_child_weight=None, missing=nan,\n",
       "             monotone_constraints=None, multi_strategy=None, n_estimators=100,\n",
       "             n_jobs=None, num_parallel_tree=None, ...)"
      ]
     },
     "execution_count": 7,
     "metadata": {},
     "output_type": "execute_result"
    }
   ],
   "source": [
    "model = xgb.XGBRegressor(\n",
    "    n_estimators=100,\n",
    "    learning_rate=0.1,\n",
    "    max_depth=6,\n",
    "    random_state=42\n",
    ")\n",
    "model.fit(X_train, y_train)"
   ]
  },
  {
   "cell_type": "code",
   "execution_count": 19,
   "id": "ad7b1cb0-cc11-476f-80e0-cfede649de96",
   "metadata": {},
   "outputs": [],
   "source": [
    "y_pred=model.predict(X_test)"
   ]
  },
  {
   "cell_type": "markdown",
   "id": "b02aeee6-e1d0-43d5-bb98-8542d501c7db",
   "metadata": {},
   "source": [
    "# Calculation Metrics"
   ]
  },
  {
   "cell_type": "code",
   "execution_count": 20,
   "id": "807ba962-2cd4-4f14-a5de-ce4aaf3a1219",
   "metadata": {},
   "outputs": [],
   "source": [
    "mae = mean_absolute_error(y_test, y_pred)\n",
    "rmse = np.sqrt(mean_squared_error(y_test, y_pred))\n",
    "r2 = r2_score(y_test, y_pred)"
   ]
  },
  {
   "cell_type": "code",
   "execution_count": 21,
   "id": "5d9e619e-7f31-44a9-9bed-e2594a707aac",
   "metadata": {},
   "outputs": [
    {
     "name": "stdout",
     "output_type": "stream",
     "text": [
      "MAE: 8.16\n",
      "RMSE: 10.41\n",
      "R² Score: 1.00\n"
     ]
    }
   ],
   "source": [
    "print(f\"MAE: {mae:.2f}\")\n",
    "print(f\"RMSE: {rmse:.2f}\")\n",
    "print(f\"R² Score: {r2:.2f}\")"
   ]
  },
  {
   "cell_type": "code",
   "execution_count": 22,
   "id": "26052f16-5bb5-4d17-a171-7746c0142c6c",
   "metadata": {},
   "outputs": [
    {
     "name": "stdout",
     "output_type": "stream",
     "text": [
      "Estimated Regression Accuracy: 95.65%\n"
     ]
    }
   ],
   "source": [
    "relative_error = mae / y_test.mean()\n",
    "accuracy_percent = (1 - relative_error) * 100\n",
    "print(f\"Estimated Regression Accuracy: {accuracy_percent:.2f}%\")"
   ]
  },
  {
   "cell_type": "markdown",
   "id": "2e869440-92bb-4b56-b7cf-9cdd3c280f00",
   "metadata": {},
   "source": [
    "# With Testing Data"
   ]
  },
  {
   "cell_type": "code",
   "execution_count": 23,
   "id": "c63cba58-6f67-44c4-a0f7-35c2ff68419c",
   "metadata": {},
   "outputs": [],
   "source": [
    "df_input = pd.read_csv(\"input_data.csv\")"
   ]
  },
  {
   "cell_type": "code",
   "execution_count": 29,
   "id": "15f03e8e-55aa-4ff8-b1c1-ff08255d9f4c",
   "metadata": {},
   "outputs": [],
   "source": [
    "label_encoders = {}\n",
    "\n",
    "for col in df_input.columns:\n",
    "    if df_input[col].dtype == 'object':\n",
    "        le = LabelEncoder()\n",
    "        df_input[col] = le.fit_transform(df_input[col].astype(str))\n",
    "        label_encoders[col] = le"
   ]
  },
  {
   "cell_type": "code",
   "execution_count": 30,
   "id": "5e40ad3c-49c9-425f-a5e6-5cf48a33ebcb",
   "metadata": {},
   "outputs": [],
   "source": [
    "df_input = df_input.drop(columns=['Customer_Id'], errors='ignore')"
   ]
  },
  {
   "cell_type": "code",
   "execution_count": 31,
   "id": "ce82bb46-d3fb-46d6-a1f9-e08b45ac9a79",
   "metadata": {},
   "outputs": [],
   "source": [
    "df_input = df_input.apply(pd.to_numeric, errors='coerce')"
   ]
  },
  {
   "cell_type": "code",
   "execution_count": 32,
   "id": "eeee50e0-5f77-4d9d-837a-29ed17921b49",
   "metadata": {},
   "outputs": [],
   "source": [
    "df_input = df_input[X_train.columns]\n",
    "predictions = model.predict(df_input)\n",
    "predictions_rounded = np.round(predictions).astype(int)"
   ]
  },
  {
   "cell_type": "code",
   "execution_count": 36,
   "id": "43615bff-db54-42e8-85ff-5216421768e4",
   "metadata": {},
   "outputs": [
    {
     "name": "stdout",
     "output_type": "stream",
     "text": [
      "   Predicted_Daily_Sales_Quantity\n",
      "0                              73\n",
      "1                              73\n",
      "2                              73\n",
      "3                              74\n",
      "4                              75\n",
      "5                              73\n"
     ]
    }
   ],
   "source": [
    "df_input['Predicted_Daily_Sales_Quantity'] = predictions_rounded\n",
    "\n",
    "# Save and show\n",
    "df_input.to_csv(\"output_with_predictions.csv\", index=False)\n",
    "print(df_input[['Predicted_Daily_Sales_Quantity']])"
   ]
  },
  {
   "cell_type": "markdown",
   "id": "04b8ff8e-4962-45be-a826-55e2488c1415",
   "metadata": {},
   "source": [
    "# OBJECTIVE 2: INVENTORY MANAGEMENT"
   ]
  },
  {
   "cell_type": "markdown",
   "id": "e12e58ba-2b81-4e5a-8549-0420b533541f",
   "metadata": {},
   "source": [
    "# Importing libraries"
   ]
  },
  {
   "cell_type": "code",
   "execution_count": 34,
   "id": "16ec1fbe-3b7c-47eb-8e31-f40282bedcc1",
   "metadata": {},
   "outputs": [],
   "source": [
    "import pandas as pd\n",
    "from pulp import LpMaximize, LpProblem, LpVariable, lpSum"
   ]
  },
  {
   "cell_type": "markdown",
   "id": "c214b2e5-ba82-4c9d-823e-c98d591b1316",
   "metadata": {},
   "source": [
    "# Machinery Data given by the company"
   ]
  },
  {
   "cell_type": "code",
   "execution_count": 35,
   "id": "52f53138-5ee7-4764-8925-cb8838e3615a",
   "metadata": {},
   "outputs": [],
   "source": [
    "machines = {\n",
    "    \"Backhoe Loader\": {\"volume\": 15, \"cost\": 3000000},\n",
    "    \"Excavator (Crawler)\": {\"volume\": 25, \"cost\": 5000000},\n",
    "    \"Loader (Wheeled)\": {\"volume\": 20, \"cost\": 4000000},\n",
    "    \"Skid Steer Loader\": {\"volume\": 10, \"cost\": 2000000},\n",
    "    \"Compactor\": {\"volume\": 12, \"cost\": 2500000},\n",
    "    \"Tele Handler\": {\"volume\": 18, \"cost\": 3500000},\n",
    "}"
   ]
  },
  {
   "cell_type": "markdown",
   "id": "b1c353dd-fb38-49ea-8391-21ba275caae6",
   "metadata": {},
   "source": [
    "# Load predicted demand from your model"
   ]
  },
  {
   "cell_type": "code",
   "execution_count": 37,
   "id": "92d1fd14-f1f8-4046-9c63-aa6c10e62235",
   "metadata": {},
   "outputs": [],
   "source": [
    "predicted_demand = {\n",
    "    \"Backhoe Loader\": 73,\n",
    "    \"Excavator (Crawler)\": 73,\n",
    "    \"Loader (Wheeled)\": 73,\n",
    "    \"Skid Steer Loader\": 74,\n",
    "    \"Compactor\": 75,\n",
    "    \"Tele Handler\": 73\n",
    "}"
   ]
  },
  {
   "cell_type": "markdown",
   "id": "86379633-d5de-484a-8cc9-f5dcd679f726",
   "metadata": {},
   "source": [
    "# Optimization Model"
   ]
  },
  {
   "cell_type": "code",
   "execution_count": 38,
   "id": "cee48486-ff8f-473d-a7a4-0d2df2d5045d",
   "metadata": {},
   "outputs": [],
   "source": [
    "model = LpProblem(\"Inventory_Optimization\", LpMaximize)"
   ]
  },
  {
   "cell_type": "markdown",
   "id": "091d20e4-7010-454c-9988-ed8b503a5e4a",
   "metadata": {},
   "source": [
    "# Create variables for number of units to stock for each machine"
   ]
  },
  {
   "cell_type": "code",
   "execution_count": 39,
   "id": "e84f350a-6d1c-4ab0-8199-344437fa2b91",
   "metadata": {},
   "outputs": [],
   "source": [
    "units = {m: LpVariable(f\"units_{m.replace(' ', '_')}\", lowBound=0, cat='Integer') for m in machines}"
   ]
  },
  {
   "cell_type": "markdown",
   "id": "708a2e73-398d-43da-b14a-c53c4e49e0df",
   "metadata": {},
   "source": [
    "# Objective – Maximize total demand met"
   ]
  },
  {
   "cell_type": "code",
   "execution_count": 40,
   "id": "e545da13-6fe3-4500-aaf8-b636c606a956",
   "metadata": {},
   "outputs": [],
   "source": [
    "model += lpSum([units[m] for m in machines]), \"Total_Units_Stored\""
   ]
  },
  {
   "cell_type": "markdown",
   "id": "02bd3954-43e2-4e4d-8ce8-23d182d8cab5",
   "metadata": {},
   "source": [
    "# Constraint – Total volume used ≤ 5000 m³"
   ]
  },
  {
   "cell_type": "code",
   "execution_count": 41,
   "id": "f8f95f0a-624b-4dcd-a1cf-35e5c3641103",
   "metadata": {},
   "outputs": [],
   "source": [
    "model += lpSum([units[m] * machines[m][\"volume\"] for m in machines]) <= 5000, \"Storage_Limit\""
   ]
  },
  {
   "cell_type": "markdown",
   "id": "ef5af900-66b0-45d2-a8a9-89901c6bd710",
   "metadata": {},
   "source": [
    "# Don't store more than predicted demand"
   ]
  },
  {
   "cell_type": "code",
   "execution_count": 42,
   "id": "07b47ce1-5dd6-42e6-bbb7-6d0ed0815b22",
   "metadata": {},
   "outputs": [],
   "source": [
    "for m in machines:\n",
    "    model += units[m] <= predicted_demand[m], f\"Cap_{m}\""
   ]
  },
  {
   "cell_type": "markdown",
   "id": "e999e3eb-fab3-4aaf-9b42-8d85d3e99e95",
   "metadata": {},
   "source": [
    "# Solve"
   ]
  },
  {
   "cell_type": "code",
   "execution_count": 43,
   "id": "4ebc9c62-0d48-49a7-9b8c-4f49b3d2e523",
   "metadata": {},
   "outputs": [
    {
     "data": {
      "text/plain": [
       "1"
      ]
     },
     "execution_count": 43,
     "metadata": {},
     "output_type": "execute_result"
    }
   ],
   "source": [
    "model.solve()"
   ]
  },
  {
   "cell_type": "markdown",
   "id": "0062e512-7399-4526-bffc-242c7ba2de5e",
   "metadata": {},
   "source": [
    "# Show Results"
   ]
  },
  {
   "cell_type": "code",
   "execution_count": 44,
   "id": "19048e62-1e7c-42ba-8512-6ffc38d6174a",
   "metadata": {},
   "outputs": [
    {
     "name": "stdout",
     "output_type": "stream",
     "text": [
      "\n",
      "📦 Recommended Inventory Plan:\n",
      "- Backhoe Loader: 73 units (uses 1095 m³)\n",
      "- Excavator (Crawler): 0 units (uses 0 m³)\n",
      "- Loader (Wheeled): 47 units (uses 940 m³)\n",
      "- Skid Steer Loader: 74 units (uses 740 m³)\n",
      "- Compactor: 75 units (uses 900 m³)\n",
      "- Tele Handler: 73 units (uses 1314 m³)\n",
      "\n",
      "🔧 Total Units Stored: 342\n",
      "📐 Total Space Used: 4989 / 5000 m³\n"
     ]
    }
   ],
   "source": [
    "print(\"\\n📦 Recommended Inventory Plan:\")\n",
    "total_space = 0\n",
    "total_units = 0\n",
    "\n",
    "for m in machines:\n",
    "    qty = int(units[m].varValue)\n",
    "    space = qty * machines[m][\"volume\"]\n",
    "    total_space += space\n",
    "    total_units += qty\n",
    "    print(f\"- {m}: {qty} units (uses {space} m³)\")\n",
    "\n",
    "print(f\"\\n🔧 Total Units Stored: {total_units}\")\n",
    "print(f\"📐 Total Space Used: {total_space} / 5000 m³\")\n"
   ]
  },
  {
   "cell_type": "code",
   "execution_count": null,
   "id": "f433b8c9-e540-47e8-8576-56a563eda84b",
   "metadata": {},
   "outputs": [],
   "source": []
  }
 ],
 "metadata": {
  "kernelspec": {
   "display_name": "Python 3 (ipykernel)",
   "language": "python",
   "name": "python3"
  },
  "language_info": {
   "codemirror_mode": {
    "name": "ipython",
    "version": 3
   },
   "file_extension": ".py",
   "mimetype": "text/x-python",
   "name": "python",
   "nbconvert_exporter": "python",
   "pygments_lexer": "ipython3",
   "version": "3.12.7"
  }
 },
 "nbformat": 4,
 "nbformat_minor": 5
}
